{
  "nbformat": 4,
  "nbformat_minor": 0,
  "metadata": {
    "colab": {
      "provenance": []
    },
    "kernelspec": {
      "name": "python3",
      "display_name": "Python 3"
    },
    "language_info": {
      "name": "python"
    }
  },
  "cells": [
    {
      "cell_type": "code",
      "execution_count": 1,
      "metadata": {
        "id": "w-8X0wN7-yTb"
      },
      "outputs": [],
      "source": [
        "import geopandas as gpd"
      ]
    },
    {
      "cell_type": "code",
      "source": [
        "gdf = gpd.read_file(\"MapComplete_hailhydrant_export_2025-04-15T10_18_54.geojson\")"
      ],
      "metadata": {
        "id": "W7r2q4J5-71b"
      },
      "execution_count": 17,
      "outputs": []
    },
    {
      "cell_type": "code",
      "source": [
        "print(gdf.crs)"
      ],
      "metadata": {
        "colab": {
          "base_uri": "https://localhost:8080/"
        },
        "id": "jlqrBfsu_0p9",
        "outputId": "3b692dab-cf6a-48b5-f52b-037eaf133c5a"
      },
      "execution_count": 18,
      "outputs": [
        {
          "output_type": "stream",
          "name": "stdout",
          "text": [
            "EPSG:4326\n"
          ]
        }
      ]
    },
    {
      "cell_type": "code",
      "source": [
        "gdf_utm = gdf.to_crs(epsg=32636)"
      ],
      "metadata": {
        "id": "m2aBq51s_-Cd"
      },
      "execution_count": 6,
      "outputs": []
    },
    {
      "cell_type": "code",
      "source": [
        "print(gdf_utm.head())\n",
        "print(gdf_utm.crs)"
      ],
      "metadata": {
        "colab": {
          "base_uri": "https://localhost:8080/"
        },
        "id": "0Qxdt1hGAAnd",
        "outputId": "f05cf948-1683-4d3f-8687-51d4d7f69155"
      },
      "execution_count": 20,
      "outputs": [
        {
          "output_type": "stream",
          "name": "stdout",
          "text": [
            "  addr:housenumber addr:postcode addr:street alt_name amenity barrier  \\\n",
            "0             None          None        None     None    None    None   \n",
            "1             None          None        None     None    None    None   \n",
            "2             None          None        None     None    None    None   \n",
            "3             None          None        None     None    None    None   \n",
            "4             None          None        None     None    None    None   \n",
            "\n",
            "  building building:levels check_date damage  ... wikipedia id        _lat  \\\n",
            "0     None            None        NaT   None  ...      None  0  50.4941202   \n",
            "1     None            None        NaT   None  ...      None  1  50.4747112   \n",
            "2     None            None        NaT   None  ...      None  2   50.483223   \n",
            "3     None            None        NaT   None  ...      None  3  50.4785002   \n",
            "4     None            None        NaT   None  ...      None  4  50.4756958   \n",
            "\n",
            "         _lon                 timestamp version    changeset      user  \\\n",
            "0   30.617318 2018-07-19 02:31:07+00:00     1.0   60853286.0  Kilkenni   \n",
            "1  30.6040022 2020-06-22 00:39:54+00:00     1.0   86949441.0  Kilkenni   \n",
            "2  30.6259958 2024-08-27 05:41:31+00:00     3.0  155811394.0  Kilkenni   \n",
            "3  30.6196326 2022-01-21 10:36:52+00:00     2.0  116424219.0  Kilkenni   \n",
            "4  30.6282986 2022-02-19 16:25:40+00:00     3.0  117610986.0  Kilkenni   \n",
            "\n",
            "         uid                        geometry  \n",
            "0  1676637.0   POINT (331005.927 5596283.46)  \n",
            "1  1676637.0  POINT (329991.942 5594156.058)  \n",
            "2  1676637.0  POINT (331582.592 5595052.233)  \n",
            "3  1676637.0  POINT (331114.384 5594541.628)  \n",
            "4  1676637.0  POINT (331719.203 5594210.169)  \n",
            "\n",
            "[5 rows x 46 columns]\n",
            "EPSG:32636\n"
          ]
        }
      ]
    },
    {
      "cell_type": "code",
      "source": [
        "gdf_utm.geom_type.value_counts()"
      ],
      "metadata": {
        "colab": {
          "base_uri": "https://localhost:8080/",
          "height": 178
        },
        "id": "S6UBKMbqAZl6",
        "outputId": "8eeb065d-fda8-4ea5-ee70-3c2eaba11821"
      },
      "execution_count": 21,
      "outputs": [
        {
          "output_type": "execute_result",
          "data": {
            "text/plain": [
              "Point         199\n",
              "Polygon        63\n",
              "LineString      4\n",
              "Name: count, dtype: int64"
            ],
            "text/html": [
              "<div>\n",
              "<style scoped>\n",
              "    .dataframe tbody tr th:only-of-type {\n",
              "        vertical-align: middle;\n",
              "    }\n",
              "\n",
              "    .dataframe tbody tr th {\n",
              "        vertical-align: top;\n",
              "    }\n",
              "\n",
              "    .dataframe thead th {\n",
              "        text-align: right;\n",
              "    }\n",
              "</style>\n",
              "<table border=\"1\" class=\"dataframe\">\n",
              "  <thead>\n",
              "    <tr style=\"text-align: right;\">\n",
              "      <th></th>\n",
              "      <th>count</th>\n",
              "    </tr>\n",
              "  </thead>\n",
              "  <tbody>\n",
              "    <tr>\n",
              "      <th>Point</th>\n",
              "      <td>199</td>\n",
              "    </tr>\n",
              "    <tr>\n",
              "      <th>Polygon</th>\n",
              "      <td>63</td>\n",
              "    </tr>\n",
              "    <tr>\n",
              "      <th>LineString</th>\n",
              "      <td>4</td>\n",
              "    </tr>\n",
              "  </tbody>\n",
              "</table>\n",
              "</div><br><label><b>dtype:</b> int64</label>"
            ]
          },
          "metadata": {},
          "execution_count": 21
        }
      ]
    },
    {
      "cell_type": "code",
      "source": [
        "gdf_utm = gdf_utm[gdf_utm.geometry.type == \"Point\"]"
      ],
      "metadata": {
        "id": "KxvkBp07Ae1k"
      },
      "execution_count": 22,
      "outputs": []
    },
    {
      "cell_type": "code",
      "source": [
        "print(gdf.crs)"
      ],
      "metadata": {
        "colab": {
          "base_uri": "https://localhost:8080/"
        },
        "id": "GUTGZX-pCFrL",
        "outputId": "fb74dcc2-de25-4d89-94b4-eefb6dd4cd37"
      },
      "execution_count": 23,
      "outputs": [
        {
          "output_type": "stream",
          "name": "stdout",
          "text": [
            "EPSG:4326\n"
          ]
        }
      ]
    },
    {
      "cell_type": "code",
      "source": [
        "gdf_utm = gdf.to_crs(epsg=32636)"
      ],
      "metadata": {
        "id": "iVX0usxdCOLs"
      },
      "execution_count": 24,
      "outputs": []
    },
    {
      "cell_type": "code",
      "source": [
        "gdf_utm.to_file(\"hydrants_utm36.geojson\", driver=\"GeoJSON\")\n",
        "gdf_utm[[\"id\", \"x_m\", \"y_m\"]].to_csv(\"hydrants_xy.csv\", index=False)"
      ],
      "metadata": {
        "id": "9qqfG2nd-7o7"
      },
      "execution_count": 12,
      "outputs": []
    },
    {
      "cell_type": "code",
      "source": [
        "gdf = gpd.read_file(\"MapComplete_hailhydrant_export_2025-04-15T10_18_54.geojson\")"
      ],
      "metadata": {
        "id": "rXbExtVJ-7kL"
      },
      "execution_count": 26,
      "outputs": []
    },
    {
      "cell_type": "code",
      "source": [
        "gdf_points = gdf[gdf.geometry.type == \"Point\"].copy()"
      ],
      "metadata": {
        "id": "_TCeNT1f-7hy"
      },
      "execution_count": 27,
      "outputs": []
    },
    {
      "cell_type": "code",
      "source": [
        "if gdf_points.crs is None:\n",
        "    gdf_points.set_crs(epsg=4326, inplace=True)"
      ],
      "metadata": {
        "id": "QjgtAVnF-7fQ"
      },
      "execution_count": 28,
      "outputs": []
    },
    {
      "cell_type": "code",
      "source": [
        "gdf_utm = gdf_points.to_crs(epsg=32636)"
      ],
      "metadata": {
        "id": "2ldGViMu-7c3"
      },
      "execution_count": 29,
      "outputs": []
    },
    {
      "cell_type": "code",
      "source": [
        "gdf_utm.to_file(\"hydrants111_utm36N.shp\", driver=\"ESRI Shapefile\")"
      ],
      "metadata": {
        "colab": {
          "base_uri": "https://localhost:8080/"
        },
        "id": "hfbzvg1_-7af",
        "outputId": "f4a75df1-e002-45c9-d56f-1b6918148c6c"
      },
      "execution_count": 30,
      "outputs": [
        {
          "output_type": "stream",
          "name": "stderr",
          "text": [
            "<ipython-input-30-f96bba530918>:1: UserWarning: Column names longer than 10 characters will be truncated when saved to ESRI Shapefile.\n",
            "  gdf_utm.to_file(\"hydrants111_utm36N.shp\", driver=\"ESRI Shapefile\")\n",
            "/usr/local/lib/python3.11/dist-packages/pyogrio/raw.py:723: RuntimeWarning: Normalized/laundered field name: 'addr:housenumber' to 'addr_house'\n",
            "  ogr_write(\n",
            "/usr/local/lib/python3.11/dist-packages/pyogrio/raw.py:723: RuntimeWarning: Normalized/laundered field name: 'addr:postcode' to 'addr_postc'\n",
            "  ogr_write(\n",
            "/usr/local/lib/python3.11/dist-packages/pyogrio/raw.py:723: RuntimeWarning: Normalized/laundered field name: 'addr:street' to 'addr_stree'\n",
            "  ogr_write(\n",
            "/usr/local/lib/python3.11/dist-packages/pyogrio/raw.py:723: RuntimeWarning: Normalized/laundered field name: 'building:levels' to 'building_l'\n",
            "  ogr_write(\n",
            "/usr/local/lib/python3.11/dist-packages/pyogrio/raw.py:723: RuntimeWarning: Field check_date create as date field, though DateTime requested.\n",
            "  ogr_write(\n",
            "/usr/local/lib/python3.11/dist-packages/pyogrio/raw.py:723: RuntimeWarning: Normalized/laundered field name: 'description' to 'descriptio'\n",
            "  ogr_write(\n",
            "/usr/local/lib/python3.11/dist-packages/pyogrio/raw.py:723: RuntimeWarning: Normalized/laundered field name: 'emergency:phone' to 'emergency_'\n",
            "  ogr_write(\n",
            "/usr/local/lib/python3.11/dist-packages/pyogrio/raw.py:723: RuntimeWarning: Normalized/laundered field name: 'fire_hydrant:diameter' to 'fire_hydra'\n",
            "  ogr_write(\n",
            "/usr/local/lib/python3.11/dist-packages/pyogrio/raw.py:723: RuntimeWarning: Normalized/laundered field name: 'fire_hydrant:position' to 'fire_hyd_1'\n",
            "  ogr_write(\n",
            "/usr/local/lib/python3.11/dist-packages/pyogrio/raw.py:723: RuntimeWarning: Normalized/laundered field name: 'fire_hydrant:type' to 'fire_hyd_2'\n",
            "  ogr_write(\n",
            "/usr/local/lib/python3.11/dist-packages/pyogrio/raw.py:723: RuntimeWarning: Normalized/laundered field name: 'name:en' to 'name_en'\n",
            "  ogr_write(\n",
            "/usr/local/lib/python3.11/dist-packages/pyogrio/raw.py:723: RuntimeWarning: Normalized/laundered field name: 'name:ru' to 'name_ru'\n",
            "  ogr_write(\n",
            "/usr/local/lib/python3.11/dist-packages/pyogrio/raw.py:723: RuntimeWarning: Normalized/laundered field name: 'name:uk' to 'name_uk'\n",
            "  ogr_write(\n",
            "/usr/local/lib/python3.11/dist-packages/pyogrio/raw.py:723: RuntimeWarning: Normalized/laundered field name: 'official_name' to 'official_n'\n",
            "  ogr_write(\n",
            "/usr/local/lib/python3.11/dist-packages/pyogrio/raw.py:723: RuntimeWarning: Normalized/laundered field name: 'official_name:ru' to 'official_1'\n",
            "  ogr_write(\n",
            "/usr/local/lib/python3.11/dist-packages/pyogrio/raw.py:723: RuntimeWarning: Normalized/laundered field name: 'official_name:uk' to 'official_2'\n",
            "  ogr_write(\n",
            "/usr/local/lib/python3.11/dist-packages/pyogrio/raw.py:723: RuntimeWarning: Normalized/laundered field name: 'opening_hours' to 'opening_ho'\n",
            "  ogr_write(\n",
            "/usr/local/lib/python3.11/dist-packages/pyogrio/raw.py:723: RuntimeWarning: Field timestamp create as date field, though DateTime requested.\n",
            "  ogr_write(\n",
            "/usr/local/lib/python3.11/dist-packages/pyogrio/raw.py:723: RuntimeWarning: Value 155811394 of field changeset of feature 2 not successfully written. Possibly due to too larger number with respect to field width\n",
            "  ogr_write(\n",
            "/usr/local/lib/python3.11/dist-packages/pyogrio/raw.py:723: RuntimeWarning: Value 116424219 of field changeset of feature 3 not successfully written. Possibly due to too larger number with respect to field width\n",
            "  ogr_write(\n",
            "/usr/local/lib/python3.11/dist-packages/pyogrio/raw.py:723: RuntimeWarning: Value 117610986 of field changeset of feature 4 not successfully written. Possibly due to too larger number with respect to field width\n",
            "  ogr_write(\n",
            "/usr/local/lib/python3.11/dist-packages/pyogrio/raw.py:723: RuntimeWarning: Value 121187842 of field changeset of feature 5 not successfully written. Possibly due to too larger number with respect to field width\n",
            "  ogr_write(\n",
            "/usr/local/lib/python3.11/dist-packages/pyogrio/raw.py:723: RuntimeWarning: Value 121187842 of field changeset of feature 6 not successfully written. Possibly due to too larger number with respect to field width\n",
            "  ogr_write(\n",
            "/usr/local/lib/python3.11/dist-packages/pyogrio/raw.py:723: RuntimeWarning: Value 111445073 of field changeset of feature 7 not successfully written. Possibly due to too larger number with respect to field width\n",
            "  ogr_write(\n",
            "/usr/local/lib/python3.11/dist-packages/pyogrio/raw.py:723: RuntimeWarning: Value 111445073 of field changeset of feature 8 not successfully written. Possibly due to too larger number with respect to field width\n",
            "  ogr_write(\n",
            "/usr/local/lib/python3.11/dist-packages/pyogrio/raw.py:723: RuntimeWarning: Value 134988720 of field changeset of feature 9 not successfully written. Possibly due to too larger number with respect to field width\n",
            "  ogr_write(\n",
            "/usr/local/lib/python3.11/dist-packages/pyogrio/raw.py:723: RuntimeWarning: Value 137619132 of field changeset of feature 10 not successfully written. Possibly due to too larger number with respect to field width\n",
            "  ogr_write(\n",
            "/usr/local/lib/python3.11/dist-packages/pyogrio/raw.py:723: RuntimeWarning: Value 137619132 of field changeset of feature 11 not successfully written. Possibly due to too larger number with respect to field width\n",
            "  ogr_write(\n",
            "/usr/local/lib/python3.11/dist-packages/pyogrio/raw.py:723: RuntimeWarning: Value 137619132 of field changeset of feature 12 not successfully written. Possibly due to too larger number with respect to field width\n",
            "  ogr_write(\n",
            "/usr/local/lib/python3.11/dist-packages/pyogrio/raw.py:723: RuntimeWarning: Value 139438767 of field changeset of feature 13 not successfully written. Possibly due to too larger number with respect to field width\n",
            "  ogr_write(\n",
            "/usr/local/lib/python3.11/dist-packages/pyogrio/raw.py:723: RuntimeWarning: Value 137619132 of field changeset of feature 14 not successfully written. Possibly due to too larger number with respect to field width\n",
            "  ogr_write(\n",
            "/usr/local/lib/python3.11/dist-packages/pyogrio/raw.py:723: RuntimeWarning: Value 145246035 of field changeset of feature 19 not successfully written. Possibly due to too larger number with respect to field width\n",
            "  ogr_write(\n",
            "/usr/local/lib/python3.11/dist-packages/pyogrio/raw.py:723: RuntimeWarning: Value 135869085 of field changeset of feature 38 not successfully written. Possibly due to too larger number with respect to field width\n",
            "  ogr_write(\n",
            "/usr/local/lib/python3.11/dist-packages/pyogrio/raw.py:723: RuntimeWarning: Value 133265361 of field changeset of feature 39 not successfully written. Possibly due to too larger number with respect to field width\n",
            "  ogr_write(\n",
            "/usr/local/lib/python3.11/dist-packages/pyogrio/raw.py:723: RuntimeWarning: Value 121663476 of field changeset of feature 40 not successfully written. Possibly due to too larger number with respect to field width\n",
            "  ogr_write(\n",
            "/usr/local/lib/python3.11/dist-packages/pyogrio/raw.py:723: RuntimeWarning: Value 138338349 of field changeset of feature 81 not successfully written. Possibly due to too larger number with respect to field width\n",
            "  ogr_write(\n",
            "/usr/local/lib/python3.11/dist-packages/pyogrio/raw.py:723: RuntimeWarning: Value 136203071 of field changeset of feature 85 not successfully written. Possibly due to too larger number with respect to field width\n",
            "  ogr_write(\n",
            "/usr/local/lib/python3.11/dist-packages/pyogrio/raw.py:723: RuntimeWarning: Value 136203071 of field changeset of feature 87 not successfully written. Possibly due to too larger number with respect to field width\n",
            "  ogr_write(\n",
            "/usr/local/lib/python3.11/dist-packages/pyogrio/raw.py:723: RuntimeWarning: Value 136203071 of field changeset of feature 88 not successfully written. Possibly due to too larger number with respect to field width\n",
            "  ogr_write(\n",
            "/usr/local/lib/python3.11/dist-packages/pyogrio/raw.py:723: RuntimeWarning: Value 103564945 of field changeset of feature 125 not successfully written. Possibly due to too larger number with respect to field width\n",
            "  ogr_write(\n",
            "/usr/local/lib/python3.11/dist-packages/pyogrio/raw.py:723: RuntimeWarning: Value 140274118 of field changeset of feature 130 not successfully written. Possibly due to too larger number with respect to field width\n",
            "  ogr_write(\n",
            "/usr/local/lib/python3.11/dist-packages/pyogrio/raw.py:723: RuntimeWarning: Value 148882090 of field changeset of feature 133 not successfully written. Possibly due to too larger number with respect to field width\n",
            "  ogr_write(\n",
            "/usr/local/lib/python3.11/dist-packages/pyogrio/raw.py:723: RuntimeWarning: Value 106794350 of field changeset of feature 136 not successfully written. Possibly due to too larger number with respect to field width\n",
            "  ogr_write(\n",
            "/usr/local/lib/python3.11/dist-packages/pyogrio/raw.py:723: RuntimeWarning: Value 108851833 of field changeset of feature 137 not successfully written. Possibly due to too larger number with respect to field width\n",
            "  ogr_write(\n",
            "/usr/local/lib/python3.11/dist-packages/pyogrio/raw.py:723: RuntimeWarning: Value 109407505 of field changeset of feature 138 not successfully written. Possibly due to too larger number with respect to field width\n",
            "  ogr_write(\n",
            "/usr/local/lib/python3.11/dist-packages/pyogrio/raw.py:723: RuntimeWarning: Value 110881537 of field changeset of feature 139 not successfully written. Possibly due to too larger number with respect to field width\n",
            "  ogr_write(\n",
            "/usr/local/lib/python3.11/dist-packages/pyogrio/raw.py:723: RuntimeWarning: Value 112075218 of field changeset of feature 140 not successfully written. Possibly due to too larger number with respect to field width\n",
            "  ogr_write(\n",
            "/usr/local/lib/python3.11/dist-packages/pyogrio/raw.py:723: RuntimeWarning: Value 111391578 of field changeset of feature 141 not successfully written. Possibly due to too larger number with respect to field width\n",
            "  ogr_write(\n",
            "/usr/local/lib/python3.11/dist-packages/pyogrio/raw.py:723: RuntimeWarning: Value 111623836 of field changeset of feature 142 not successfully written. Possibly due to too larger number with respect to field width\n",
            "  ogr_write(\n",
            "/usr/local/lib/python3.11/dist-packages/pyogrio/raw.py:723: RuntimeWarning: Value 114814722 of field changeset of feature 143 not successfully written. Possibly due to too larger number with respect to field width\n",
            "  ogr_write(\n",
            "/usr/local/lib/python3.11/dist-packages/pyogrio/raw.py:723: RuntimeWarning: Value 116486258 of field changeset of feature 144 not successfully written. Possibly due to too larger number with respect to field width\n",
            "  ogr_write(\n",
            "/usr/local/lib/python3.11/dist-packages/pyogrio/raw.py:723: RuntimeWarning: Value 133265222 of field changeset of feature 145 not successfully written. Possibly due to too larger number with respect to field width\n",
            "  ogr_write(\n",
            "/usr/local/lib/python3.11/dist-packages/pyogrio/raw.py:723: RuntimeWarning: Value 133265222 of field changeset of feature 146 not successfully written. Possibly due to too larger number with respect to field width\n",
            "  ogr_write(\n",
            "/usr/local/lib/python3.11/dist-packages/pyogrio/raw.py:723: RuntimeWarning: Value 133265222 of field changeset of feature 147 not successfully written. Possibly due to too larger number with respect to field width\n",
            "  ogr_write(\n",
            "/usr/local/lib/python3.11/dist-packages/pyogrio/raw.py:723: RuntimeWarning: Value 116879157 of field changeset of feature 148 not successfully written. Possibly due to too larger number with respect to field width\n",
            "  ogr_write(\n",
            "/usr/local/lib/python3.11/dist-packages/pyogrio/raw.py:723: RuntimeWarning: Value 133265222 of field changeset of feature 149 not successfully written. Possibly due to too larger number with respect to field width\n",
            "  ogr_write(\n",
            "/usr/local/lib/python3.11/dist-packages/pyogrio/raw.py:723: RuntimeWarning: Value 155385765 of field changeset of feature 150 not successfully written. Possibly due to too larger number with respect to field width\n",
            "  ogr_write(\n",
            "/usr/local/lib/python3.11/dist-packages/pyogrio/raw.py:723: RuntimeWarning: Value 133269036 of field changeset of feature 151 not successfully written. Possibly due to too larger number with respect to field width\n",
            "  ogr_write(\n",
            "/usr/local/lib/python3.11/dist-packages/pyogrio/raw.py:723: RuntimeWarning: Value 117541749 of field changeset of feature 152 not successfully written. Possibly due to too larger number with respect to field width\n",
            "  ogr_write(\n",
            "/usr/local/lib/python3.11/dist-packages/pyogrio/raw.py:723: RuntimeWarning: Value 133265361 of field changeset of feature 153 not successfully written. Possibly due to too larger number with respect to field width\n",
            "  ogr_write(\n",
            "/usr/local/lib/python3.11/dist-packages/pyogrio/raw.py:723: RuntimeWarning: Value 133265361 of field changeset of feature 154 not successfully written. Possibly due to too larger number with respect to field width\n",
            "  ogr_write(\n",
            "/usr/local/lib/python3.11/dist-packages/pyogrio/raw.py:723: RuntimeWarning: Value 136123481 of field changeset of feature 155 not successfully written. Possibly due to too larger number with respect to field width\n",
            "  ogr_write(\n",
            "/usr/local/lib/python3.11/dist-packages/pyogrio/raw.py:723: RuntimeWarning: Value 136123481 of field changeset of feature 156 not successfully written. Possibly due to too larger number with respect to field width\n",
            "  ogr_write(\n",
            "/usr/local/lib/python3.11/dist-packages/pyogrio/raw.py:723: RuntimeWarning: Value 137619132 of field changeset of feature 157 not successfully written. Possibly due to too larger number with respect to field width\n",
            "  ogr_write(\n",
            "/usr/local/lib/python3.11/dist-packages/pyogrio/raw.py:723: RuntimeWarning: Value 137762314 of field changeset of feature 158 not successfully written. Possibly due to too larger number with respect to field width\n",
            "  ogr_write(\n",
            "/usr/local/lib/python3.11/dist-packages/pyogrio/raw.py:723: RuntimeWarning: Value 137619132 of field changeset of feature 159 not successfully written. Possibly due to too larger number with respect to field width\n",
            "  ogr_write(\n",
            "/usr/local/lib/python3.11/dist-packages/pyogrio/raw.py:723: RuntimeWarning: Value 137619132 of field changeset of feature 160 not successfully written. Possibly due to too larger number with respect to field width\n",
            "  ogr_write(\n",
            "/usr/local/lib/python3.11/dist-packages/pyogrio/raw.py:723: RuntimeWarning: Value 138257014 of field changeset of feature 161 not successfully written. Possibly due to too larger number with respect to field width\n",
            "  ogr_write(\n",
            "/usr/local/lib/python3.11/dist-packages/pyogrio/raw.py:723: RuntimeWarning: Value 138983470 of field changeset of feature 162 not successfully written. Possibly due to too larger number with respect to field width\n",
            "  ogr_write(\n",
            "/usr/local/lib/python3.11/dist-packages/pyogrio/raw.py:723: RuntimeWarning: Value 139347570 of field changeset of feature 163 not successfully written. Possibly due to too larger number with respect to field width\n",
            "  ogr_write(\n",
            "/usr/local/lib/python3.11/dist-packages/pyogrio/raw.py:723: RuntimeWarning: Value 140700039 of field changeset of feature 164 not successfully written. Possibly due to too larger number with respect to field width\n",
            "  ogr_write(\n",
            "/usr/local/lib/python3.11/dist-packages/pyogrio/raw.py:723: RuntimeWarning: Value 145842615 of field changeset of feature 165 not successfully written. Possibly due to too larger number with respect to field width\n",
            "  ogr_write(\n",
            "/usr/local/lib/python3.11/dist-packages/pyogrio/raw.py:723: RuntimeWarning: Value 161568390 of field changeset of feature 166 not successfully written. Possibly due to too larger number with respect to field width\n",
            "  ogr_write(\n",
            "/usr/local/lib/python3.11/dist-packages/pyogrio/raw.py:723: RuntimeWarning: Value 145874667 of field changeset of feature 167 not successfully written. Possibly due to too larger number with respect to field width\n",
            "  ogr_write(\n",
            "/usr/local/lib/python3.11/dist-packages/pyogrio/raw.py:723: RuntimeWarning: Value 133553862 of field changeset of feature 170 not successfully written. Possibly due to too larger number with respect to field width\n",
            "  ogr_write(\n",
            "/usr/local/lib/python3.11/dist-packages/pyogrio/raw.py:723: RuntimeWarning: Value 143491773 of field changeset of feature 171 not successfully written. Possibly due to too larger number with respect to field width\n",
            "  ogr_write(\n",
            "/usr/local/lib/python3.11/dist-packages/pyogrio/raw.py:723: RuntimeWarning: Value 143491773 of field changeset of feature 172 not successfully written. Possibly due to too larger number with respect to field width\n",
            "  ogr_write(\n",
            "/usr/local/lib/python3.11/dist-packages/pyogrio/raw.py:723: RuntimeWarning: Value 133273944 of field changeset of feature 175 not successfully written. Possibly due to too larger number with respect to field width\n",
            "  ogr_write(\n",
            "/usr/local/lib/python3.11/dist-packages/pyogrio/raw.py:723: RuntimeWarning: Value 105863664 of field changeset of feature 176 not successfully written. Possibly due to too larger number with respect to field width\n",
            "  ogr_write(\n",
            "/usr/local/lib/python3.11/dist-packages/pyogrio/raw.py:723: RuntimeWarning: Value 141701160 of field changeset of feature 177 not successfully written. Possibly due to too larger number with respect to field width\n",
            "  ogr_write(\n",
            "/usr/local/lib/python3.11/dist-packages/pyogrio/raw.py:723: RuntimeWarning: Value 116788341 of field changeset of feature 182 not successfully written. Possibly due to too larger number with respect to field width\n",
            "  ogr_write(\n",
            "/usr/local/lib/python3.11/dist-packages/pyogrio/raw.py:723: RuntimeWarning: Value 143391546 of field changeset of feature 183 not successfully written. Possibly due to too larger number with respect to field width\n",
            "  ogr_write(\n",
            "/usr/local/lib/python3.11/dist-packages/pyogrio/raw.py:723: RuntimeWarning: Value 143391546 of field changeset of feature 184 not successfully written. Possibly due to too larger number with respect to field width\n",
            "  ogr_write(\n",
            "/usr/local/lib/python3.11/dist-packages/pyogrio/raw.py:723: RuntimeWarning: Value 143391546 of field changeset of feature 185 not successfully written. Possibly due to too larger number with respect to field width\n",
            "  ogr_write(\n",
            "/usr/local/lib/python3.11/dist-packages/pyogrio/raw.py:723: RuntimeWarning: Value 143391546 of field changeset of feature 186 not successfully written. Possibly due to too larger number with respect to field width\n",
            "  ogr_write(\n",
            "/usr/local/lib/python3.11/dist-packages/pyogrio/raw.py:723: RuntimeWarning: Value 161256330 of field changeset of feature 187 not successfully written. Possibly due to too larger number with respect to field width\n",
            "  ogr_write(\n",
            "/usr/local/lib/python3.11/dist-packages/pyogrio/raw.py:723: RuntimeWarning: Value 143391546 of field changeset of feature 188 not successfully written. Possibly due to too larger number with respect to field width\n",
            "  ogr_write(\n",
            "/usr/local/lib/python3.11/dist-packages/pyogrio/raw.py:723: RuntimeWarning: Value 151429017 of field changeset of feature 189 not successfully written. Possibly due to too larger number with respect to field width\n",
            "  ogr_write(\n",
            "/usr/local/lib/python3.11/dist-packages/pyogrio/raw.py:723: RuntimeWarning: Value 143391546 of field changeset of feature 190 not successfully written. Possibly due to too larger number with respect to field width\n",
            "  ogr_write(\n",
            "/usr/local/lib/python3.11/dist-packages/pyogrio/raw.py:723: RuntimeWarning: Value 143491773 of field changeset of feature 191 not successfully written. Possibly due to too larger number with respect to field width\n",
            "  ogr_write(\n",
            "/usr/local/lib/python3.11/dist-packages/pyogrio/raw.py:723: RuntimeWarning: Value 143491773 of field changeset of feature 192 not successfully written. Possibly due to too larger number with respect to field width\n",
            "  ogr_write(\n",
            "/usr/local/lib/python3.11/dist-packages/pyogrio/raw.py:723: RuntimeWarning: Value 143391546 of field changeset of feature 193 not successfully written. Possibly due to too larger number with respect to field width\n",
            "  ogr_write(\n",
            "/usr/local/lib/python3.11/dist-packages/pyogrio/raw.py:723: RuntimeWarning: Value 143491773 of field changeset of feature 194 not successfully written. Possibly due to too larger number with respect to field width\n",
            "  ogr_write(\n",
            "/usr/local/lib/python3.11/dist-packages/pyogrio/raw.py:723: RuntimeWarning: Value 133273831 of field changeset of feature 195 not successfully written. Possibly due to too larger number with respect to field width\n",
            "  ogr_write(\n",
            "/usr/local/lib/python3.11/dist-packages/pyogrio/raw.py:723: RuntimeWarning: Value 133264294 of field changeset of feature 197 not successfully written. Possibly due to too larger number with respect to field width\n",
            "  ogr_write(\n",
            "/usr/local/lib/python3.11/dist-packages/pyogrio/raw.py:723: RuntimeWarning: Value 133264294 of field changeset of feature 198 not successfully written. Possibly due to too larger number with respect to field width\n",
            "  ogr_write(\n"
          ]
        }
      ]
    },
    {
      "cell_type": "code",
      "source": [],
      "metadata": {
        "id": "v3W7kwJ2-7X5"
      },
      "execution_count": null,
      "outputs": []
    },
    {
      "cell_type": "code",
      "source": [],
      "metadata": {
        "id": "xrQy2LvU-7Vf"
      },
      "execution_count": null,
      "outputs": []
    },
    {
      "cell_type": "code",
      "source": [],
      "metadata": {
        "id": "_KvkP1xA-7TD"
      },
      "execution_count": null,
      "outputs": []
    },
    {
      "cell_type": "code",
      "source": [],
      "metadata": {
        "id": "7MRx7OAm-7QP"
      },
      "execution_count": null,
      "outputs": []
    }
  ]
}